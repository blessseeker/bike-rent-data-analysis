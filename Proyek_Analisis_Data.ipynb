{
 "cells": [
  {
   "cell_type": "markdown",
   "metadata": {
    "id": "H9wADwK78DCz"
   },
   "source": [
    "# Proyek Analisis Data: [Input Nama Dataset]\n",
    "- **Nama:** Kamaludin Khoir\n",
    "- **Email:** khoirkamaludin@gmail.com\n",
    "- **ID Dicoding:** blessseeker"
   ]
  },
  {
   "cell_type": "markdown",
   "metadata": {
    "id": "eE0raob58DC0"
   },
   "source": [
    "## Menentukan Pertanyaan Bisnis"
   ]
  },
  {
   "cell_type": "markdown",
   "metadata": {
    "id": "GmQeQ5YF8DC0"
   },
   "source": [
    "- Berapa time range paling efektif untuk menentukan jam buka di hari kerja & hari libur berdasarkan jumlah pemesanan?\n",
    "- Berapa perbandingan performa pemesanan yang dilakukan oleh casual users dengan registered users selama 5 bulan terakhir?"
   ]
  },
  {
   "cell_type": "markdown",
   "metadata": {
    "id": "H-z4QGlO8DC1"
   },
   "source": [
    "## Import Semua Packages/Library yang Digunakan"
   ]
  },
  {
   "cell_type": "code",
   "execution_count": 1,
   "metadata": {
    "id": "FVYwaObI8DC1"
   },
   "outputs": [],
   "source": [
    "import pandas as pd\n",
    "import matplotlib.pyplot as plt\n",
    "import seaborn as sns"
   ]
  },
  {
   "cell_type": "markdown",
   "metadata": {
    "id": "h_Sh51Xy8DC1"
   },
   "source": [
    "## Data Wrangling"
   ]
  },
  {
   "cell_type": "markdown",
   "metadata": {
    "id": "sXU2GBYu8DC1"
   },
   "source": [
    "### Gathering Data"
   ]
  },
  {
   "cell_type": "code",
   "execution_count": 2,
   "metadata": {
    "id": "zjCBk1BI8DC1"
   },
   "outputs": [
    {
     "data": {
      "text/html": [
       "<div>\n",
       "<style scoped>\n",
       "    .dataframe tbody tr th:only-of-type {\n",
       "        vertical-align: middle;\n",
       "    }\n",
       "\n",
       "    .dataframe tbody tr th {\n",
       "        vertical-align: top;\n",
       "    }\n",
       "\n",
       "    .dataframe thead th {\n",
       "        text-align: right;\n",
       "    }\n",
       "</style>\n",
       "<table border=\"1\" class=\"dataframe\">\n",
       "  <thead>\n",
       "    <tr style=\"text-align: right;\">\n",
       "      <th></th>\n",
       "      <th>instant</th>\n",
       "      <th>dteday</th>\n",
       "      <th>season</th>\n",
       "      <th>yr</th>\n",
       "      <th>mnth</th>\n",
       "      <th>hr</th>\n",
       "      <th>holiday</th>\n",
       "      <th>weekday</th>\n",
       "      <th>workingday</th>\n",
       "      <th>weathersit</th>\n",
       "      <th>temp</th>\n",
       "      <th>atemp</th>\n",
       "      <th>hum</th>\n",
       "      <th>windspeed</th>\n",
       "      <th>casual</th>\n",
       "      <th>registered</th>\n",
       "      <th>cnt</th>\n",
       "    </tr>\n",
       "  </thead>\n",
       "  <tbody>\n",
       "    <tr>\n",
       "      <th>0</th>\n",
       "      <td>1</td>\n",
       "      <td>2011-01-01</td>\n",
       "      <td>1</td>\n",
       "      <td>0</td>\n",
       "      <td>1</td>\n",
       "      <td>0</td>\n",
       "      <td>0</td>\n",
       "      <td>6</td>\n",
       "      <td>0</td>\n",
       "      <td>1</td>\n",
       "      <td>0.24</td>\n",
       "      <td>0.2879</td>\n",
       "      <td>0.81</td>\n",
       "      <td>0.0</td>\n",
       "      <td>3</td>\n",
       "      <td>13</td>\n",
       "      <td>16</td>\n",
       "    </tr>\n",
       "    <tr>\n",
       "      <th>1</th>\n",
       "      <td>2</td>\n",
       "      <td>2011-01-01</td>\n",
       "      <td>1</td>\n",
       "      <td>0</td>\n",
       "      <td>1</td>\n",
       "      <td>1</td>\n",
       "      <td>0</td>\n",
       "      <td>6</td>\n",
       "      <td>0</td>\n",
       "      <td>1</td>\n",
       "      <td>0.22</td>\n",
       "      <td>0.2727</td>\n",
       "      <td>0.80</td>\n",
       "      <td>0.0</td>\n",
       "      <td>8</td>\n",
       "      <td>32</td>\n",
       "      <td>40</td>\n",
       "    </tr>\n",
       "    <tr>\n",
       "      <th>2</th>\n",
       "      <td>3</td>\n",
       "      <td>2011-01-01</td>\n",
       "      <td>1</td>\n",
       "      <td>0</td>\n",
       "      <td>1</td>\n",
       "      <td>2</td>\n",
       "      <td>0</td>\n",
       "      <td>6</td>\n",
       "      <td>0</td>\n",
       "      <td>1</td>\n",
       "      <td>0.22</td>\n",
       "      <td>0.2727</td>\n",
       "      <td>0.80</td>\n",
       "      <td>0.0</td>\n",
       "      <td>5</td>\n",
       "      <td>27</td>\n",
       "      <td>32</td>\n",
       "    </tr>\n",
       "    <tr>\n",
       "      <th>3</th>\n",
       "      <td>4</td>\n",
       "      <td>2011-01-01</td>\n",
       "      <td>1</td>\n",
       "      <td>0</td>\n",
       "      <td>1</td>\n",
       "      <td>3</td>\n",
       "      <td>0</td>\n",
       "      <td>6</td>\n",
       "      <td>0</td>\n",
       "      <td>1</td>\n",
       "      <td>0.24</td>\n",
       "      <td>0.2879</td>\n",
       "      <td>0.75</td>\n",
       "      <td>0.0</td>\n",
       "      <td>3</td>\n",
       "      <td>10</td>\n",
       "      <td>13</td>\n",
       "    </tr>\n",
       "    <tr>\n",
       "      <th>4</th>\n",
       "      <td>5</td>\n",
       "      <td>2011-01-01</td>\n",
       "      <td>1</td>\n",
       "      <td>0</td>\n",
       "      <td>1</td>\n",
       "      <td>4</td>\n",
       "      <td>0</td>\n",
       "      <td>6</td>\n",
       "      <td>0</td>\n",
       "      <td>1</td>\n",
       "      <td>0.24</td>\n",
       "      <td>0.2879</td>\n",
       "      <td>0.75</td>\n",
       "      <td>0.0</td>\n",
       "      <td>0</td>\n",
       "      <td>1</td>\n",
       "      <td>1</td>\n",
       "    </tr>\n",
       "  </tbody>\n",
       "</table>\n",
       "</div>"
      ],
      "text/plain": [
       "   instant      dteday  season  yr  mnth  hr  holiday  weekday  workingday  \\\n",
       "0        1  2011-01-01       1   0     1   0        0        6           0   \n",
       "1        2  2011-01-01       1   0     1   1        0        6           0   \n",
       "2        3  2011-01-01       1   0     1   2        0        6           0   \n",
       "3        4  2011-01-01       1   0     1   3        0        6           0   \n",
       "4        5  2011-01-01       1   0     1   4        0        6           0   \n",
       "\n",
       "   weathersit  temp   atemp   hum  windspeed  casual  registered  cnt  \n",
       "0           1  0.24  0.2879  0.81        0.0       3          13   16  \n",
       "1           1  0.22  0.2727  0.80        0.0       8          32   40  \n",
       "2           1  0.22  0.2727  0.80        0.0       5          27   32  \n",
       "3           1  0.24  0.2879  0.75        0.0       3          10   13  \n",
       "4           1  0.24  0.2879  0.75        0.0       0           1    1  "
      ]
     },
     "execution_count": 2,
     "metadata": {},
     "output_type": "execute_result"
    }
   ],
   "source": [
    "bike_rents_per_hour_df = pd.read_csv('hour.csv')\n",
    "bike_rents_per_hour_df.head()"
   ]
  },
  {
   "cell_type": "markdown",
   "metadata": {
    "id": "FHSiqaZp8DC1"
   },
   "source": [
    "### Assessing Data"
   ]
  },
  {
   "cell_type": "code",
   "execution_count": 3,
   "metadata": {
    "id": "ax-3tEjc9Cj1"
   },
   "outputs": [
    {
     "name": "stdout",
     "output_type": "stream",
     "text": [
      "<class 'pandas.core.frame.DataFrame'>\n",
      "RangeIndex: 17379 entries, 0 to 17378\n",
      "Data columns (total 17 columns):\n",
      " #   Column      Non-Null Count  Dtype  \n",
      "---  ------      --------------  -----  \n",
      " 0   instant     17379 non-null  int64  \n",
      " 1   dteday      17379 non-null  object \n",
      " 2   season      17379 non-null  int64  \n",
      " 3   yr          17379 non-null  int64  \n",
      " 4   mnth        17379 non-null  int64  \n",
      " 5   hr          17379 non-null  int64  \n",
      " 6   holiday     17379 non-null  int64  \n",
      " 7   weekday     17379 non-null  int64  \n",
      " 8   workingday  17379 non-null  int64  \n",
      " 9   weathersit  17379 non-null  int64  \n",
      " 10  temp        17379 non-null  float64\n",
      " 11  atemp       17379 non-null  float64\n",
      " 12  hum         17379 non-null  float64\n",
      " 13  windspeed   17379 non-null  float64\n",
      " 14  casual      17379 non-null  int64  \n",
      " 15  registered  17379 non-null  int64  \n",
      " 16  cnt         17379 non-null  int64  \n",
      "dtypes: float64(4), int64(12), object(1)\n",
      "memory usage: 2.3+ MB\n"
     ]
    }
   ],
   "source": [
    "bike_rents_per_hour_df.info()"
   ]
  },
  {
   "cell_type": "code",
   "execution_count": 4,
   "metadata": {},
   "outputs": [
    {
     "data": {
      "text/plain": [
       "0"
      ]
     },
     "execution_count": 4,
     "metadata": {},
     "output_type": "execute_result"
    }
   ],
   "source": [
    "bike_rents_per_hour_df.duplicated().sum()"
   ]
  },
  {
   "cell_type": "code",
   "execution_count": 5,
   "metadata": {},
   "outputs": [
    {
     "data": {
      "text/html": [
       "<div>\n",
       "<style scoped>\n",
       "    .dataframe tbody tr th:only-of-type {\n",
       "        vertical-align: middle;\n",
       "    }\n",
       "\n",
       "    .dataframe tbody tr th {\n",
       "        vertical-align: top;\n",
       "    }\n",
       "\n",
       "    .dataframe thead th {\n",
       "        text-align: right;\n",
       "    }\n",
       "</style>\n",
       "<table border=\"1\" class=\"dataframe\">\n",
       "  <thead>\n",
       "    <tr style=\"text-align: right;\">\n",
       "      <th></th>\n",
       "      <th>instant</th>\n",
       "      <th>season</th>\n",
       "      <th>yr</th>\n",
       "      <th>mnth</th>\n",
       "      <th>hr</th>\n",
       "      <th>holiday</th>\n",
       "      <th>weekday</th>\n",
       "      <th>workingday</th>\n",
       "      <th>weathersit</th>\n",
       "      <th>temp</th>\n",
       "      <th>atemp</th>\n",
       "      <th>hum</th>\n",
       "      <th>windspeed</th>\n",
       "      <th>casual</th>\n",
       "      <th>registered</th>\n",
       "      <th>cnt</th>\n",
       "    </tr>\n",
       "  </thead>\n",
       "  <tbody>\n",
       "    <tr>\n",
       "      <th>count</th>\n",
       "      <td>17379.0000</td>\n",
       "      <td>17379.000000</td>\n",
       "      <td>17379.000000</td>\n",
       "      <td>17379.000000</td>\n",
       "      <td>17379.000000</td>\n",
       "      <td>17379.000000</td>\n",
       "      <td>17379.000000</td>\n",
       "      <td>17379.000000</td>\n",
       "      <td>17379.000000</td>\n",
       "      <td>17379.000000</td>\n",
       "      <td>17379.000000</td>\n",
       "      <td>17379.000000</td>\n",
       "      <td>17379.000000</td>\n",
       "      <td>17379.000000</td>\n",
       "      <td>17379.000000</td>\n",
       "      <td>17379.000000</td>\n",
       "    </tr>\n",
       "    <tr>\n",
       "      <th>mean</th>\n",
       "      <td>8690.0000</td>\n",
       "      <td>2.501640</td>\n",
       "      <td>0.502561</td>\n",
       "      <td>6.537775</td>\n",
       "      <td>11.546752</td>\n",
       "      <td>0.028770</td>\n",
       "      <td>3.003683</td>\n",
       "      <td>0.682721</td>\n",
       "      <td>1.425283</td>\n",
       "      <td>0.496987</td>\n",
       "      <td>0.475775</td>\n",
       "      <td>0.627229</td>\n",
       "      <td>0.190098</td>\n",
       "      <td>35.676218</td>\n",
       "      <td>153.786869</td>\n",
       "      <td>189.463088</td>\n",
       "    </tr>\n",
       "    <tr>\n",
       "      <th>std</th>\n",
       "      <td>5017.0295</td>\n",
       "      <td>1.106918</td>\n",
       "      <td>0.500008</td>\n",
       "      <td>3.438776</td>\n",
       "      <td>6.914405</td>\n",
       "      <td>0.167165</td>\n",
       "      <td>2.005771</td>\n",
       "      <td>0.465431</td>\n",
       "      <td>0.639357</td>\n",
       "      <td>0.192556</td>\n",
       "      <td>0.171850</td>\n",
       "      <td>0.192930</td>\n",
       "      <td>0.122340</td>\n",
       "      <td>49.305030</td>\n",
       "      <td>151.357286</td>\n",
       "      <td>181.387599</td>\n",
       "    </tr>\n",
       "    <tr>\n",
       "      <th>min</th>\n",
       "      <td>1.0000</td>\n",
       "      <td>1.000000</td>\n",
       "      <td>0.000000</td>\n",
       "      <td>1.000000</td>\n",
       "      <td>0.000000</td>\n",
       "      <td>0.000000</td>\n",
       "      <td>0.000000</td>\n",
       "      <td>0.000000</td>\n",
       "      <td>1.000000</td>\n",
       "      <td>0.020000</td>\n",
       "      <td>0.000000</td>\n",
       "      <td>0.000000</td>\n",
       "      <td>0.000000</td>\n",
       "      <td>0.000000</td>\n",
       "      <td>0.000000</td>\n",
       "      <td>1.000000</td>\n",
       "    </tr>\n",
       "    <tr>\n",
       "      <th>25%</th>\n",
       "      <td>4345.5000</td>\n",
       "      <td>2.000000</td>\n",
       "      <td>0.000000</td>\n",
       "      <td>4.000000</td>\n",
       "      <td>6.000000</td>\n",
       "      <td>0.000000</td>\n",
       "      <td>1.000000</td>\n",
       "      <td>0.000000</td>\n",
       "      <td>1.000000</td>\n",
       "      <td>0.340000</td>\n",
       "      <td>0.333300</td>\n",
       "      <td>0.480000</td>\n",
       "      <td>0.104500</td>\n",
       "      <td>4.000000</td>\n",
       "      <td>34.000000</td>\n",
       "      <td>40.000000</td>\n",
       "    </tr>\n",
       "    <tr>\n",
       "      <th>50%</th>\n",
       "      <td>8690.0000</td>\n",
       "      <td>3.000000</td>\n",
       "      <td>1.000000</td>\n",
       "      <td>7.000000</td>\n",
       "      <td>12.000000</td>\n",
       "      <td>0.000000</td>\n",
       "      <td>3.000000</td>\n",
       "      <td>1.000000</td>\n",
       "      <td>1.000000</td>\n",
       "      <td>0.500000</td>\n",
       "      <td>0.484800</td>\n",
       "      <td>0.630000</td>\n",
       "      <td>0.194000</td>\n",
       "      <td>17.000000</td>\n",
       "      <td>115.000000</td>\n",
       "      <td>142.000000</td>\n",
       "    </tr>\n",
       "    <tr>\n",
       "      <th>75%</th>\n",
       "      <td>13034.5000</td>\n",
       "      <td>3.000000</td>\n",
       "      <td>1.000000</td>\n",
       "      <td>10.000000</td>\n",
       "      <td>18.000000</td>\n",
       "      <td>0.000000</td>\n",
       "      <td>5.000000</td>\n",
       "      <td>1.000000</td>\n",
       "      <td>2.000000</td>\n",
       "      <td>0.660000</td>\n",
       "      <td>0.621200</td>\n",
       "      <td>0.780000</td>\n",
       "      <td>0.253700</td>\n",
       "      <td>48.000000</td>\n",
       "      <td>220.000000</td>\n",
       "      <td>281.000000</td>\n",
       "    </tr>\n",
       "    <tr>\n",
       "      <th>max</th>\n",
       "      <td>17379.0000</td>\n",
       "      <td>4.000000</td>\n",
       "      <td>1.000000</td>\n",
       "      <td>12.000000</td>\n",
       "      <td>23.000000</td>\n",
       "      <td>1.000000</td>\n",
       "      <td>6.000000</td>\n",
       "      <td>1.000000</td>\n",
       "      <td>4.000000</td>\n",
       "      <td>1.000000</td>\n",
       "      <td>1.000000</td>\n",
       "      <td>1.000000</td>\n",
       "      <td>0.850700</td>\n",
       "      <td>367.000000</td>\n",
       "      <td>886.000000</td>\n",
       "      <td>977.000000</td>\n",
       "    </tr>\n",
       "  </tbody>\n",
       "</table>\n",
       "</div>"
      ],
      "text/plain": [
       "          instant        season            yr          mnth            hr  \\\n",
       "count  17379.0000  17379.000000  17379.000000  17379.000000  17379.000000   \n",
       "mean    8690.0000      2.501640      0.502561      6.537775     11.546752   \n",
       "std     5017.0295      1.106918      0.500008      3.438776      6.914405   \n",
       "min        1.0000      1.000000      0.000000      1.000000      0.000000   \n",
       "25%     4345.5000      2.000000      0.000000      4.000000      6.000000   \n",
       "50%     8690.0000      3.000000      1.000000      7.000000     12.000000   \n",
       "75%    13034.5000      3.000000      1.000000     10.000000     18.000000   \n",
       "max    17379.0000      4.000000      1.000000     12.000000     23.000000   \n",
       "\n",
       "            holiday       weekday    workingday    weathersit          temp  \\\n",
       "count  17379.000000  17379.000000  17379.000000  17379.000000  17379.000000   \n",
       "mean       0.028770      3.003683      0.682721      1.425283      0.496987   \n",
       "std        0.167165      2.005771      0.465431      0.639357      0.192556   \n",
       "min        0.000000      0.000000      0.000000      1.000000      0.020000   \n",
       "25%        0.000000      1.000000      0.000000      1.000000      0.340000   \n",
       "50%        0.000000      3.000000      1.000000      1.000000      0.500000   \n",
       "75%        0.000000      5.000000      1.000000      2.000000      0.660000   \n",
       "max        1.000000      6.000000      1.000000      4.000000      1.000000   \n",
       "\n",
       "              atemp           hum     windspeed        casual    registered  \\\n",
       "count  17379.000000  17379.000000  17379.000000  17379.000000  17379.000000   \n",
       "mean       0.475775      0.627229      0.190098     35.676218    153.786869   \n",
       "std        0.171850      0.192930      0.122340     49.305030    151.357286   \n",
       "min        0.000000      0.000000      0.000000      0.000000      0.000000   \n",
       "25%        0.333300      0.480000      0.104500      4.000000     34.000000   \n",
       "50%        0.484800      0.630000      0.194000     17.000000    115.000000   \n",
       "75%        0.621200      0.780000      0.253700     48.000000    220.000000   \n",
       "max        1.000000      1.000000      0.850700    367.000000    886.000000   \n",
       "\n",
       "                cnt  \n",
       "count  17379.000000  \n",
       "mean     189.463088  \n",
       "std      181.387599  \n",
       "min        1.000000  \n",
       "25%       40.000000  \n",
       "50%      142.000000  \n",
       "75%      281.000000  \n",
       "max      977.000000  "
      ]
     },
     "execution_count": 5,
     "metadata": {},
     "output_type": "execute_result"
    }
   ],
   "source": [
    "bike_rents_per_hour_df.describe()"
   ]
  },
  {
   "cell_type": "code",
   "execution_count": 6,
   "metadata": {},
   "outputs": [],
   "source": [
    "# Result\n",
    "# - Terdapat invalid data type pada tabel bike_rents_per_hour_df.dteday yang seharusnya datetime menjadi object"
   ]
  },
  {
   "cell_type": "markdown",
   "metadata": {
    "id": "EhN5R4hr8DC1"
   },
   "source": [
    "### Cleaning Data"
   ]
  },
  {
   "cell_type": "code",
   "execution_count": 7,
   "metadata": {
    "id": "jVnYpprE9Evz"
   },
   "outputs": [],
   "source": [
    "bike_rents_per_hour_df['dteday'] = pd.to_datetime(bike_rents_per_hour_df['dteday'])"
   ]
  },
  {
   "cell_type": "code",
   "execution_count": 8,
   "metadata": {
    "scrolled": true
   },
   "outputs": [
    {
     "name": "stdout",
     "output_type": "stream",
     "text": [
      "<class 'pandas.core.frame.DataFrame'>\n",
      "RangeIndex: 17379 entries, 0 to 17378\n",
      "Data columns (total 17 columns):\n",
      " #   Column      Non-Null Count  Dtype         \n",
      "---  ------      --------------  -----         \n",
      " 0   instant     17379 non-null  int64         \n",
      " 1   dteday      17379 non-null  datetime64[ns]\n",
      " 2   season      17379 non-null  int64         \n",
      " 3   yr          17379 non-null  int64         \n",
      " 4   mnth        17379 non-null  int64         \n",
      " 5   hr          17379 non-null  int64         \n",
      " 6   holiday     17379 non-null  int64         \n",
      " 7   weekday     17379 non-null  int64         \n",
      " 8   workingday  17379 non-null  int64         \n",
      " 9   weathersit  17379 non-null  int64         \n",
      " 10  temp        17379 non-null  float64       \n",
      " 11  atemp       17379 non-null  float64       \n",
      " 12  hum         17379 non-null  float64       \n",
      " 13  windspeed   17379 non-null  float64       \n",
      " 14  casual      17379 non-null  int64         \n",
      " 15  registered  17379 non-null  int64         \n",
      " 16  cnt         17379 non-null  int64         \n",
      "dtypes: datetime64[ns](1), float64(4), int64(12)\n",
      "memory usage: 2.3 MB\n"
     ]
    }
   ],
   "source": [
    "bike_rents_per_hour_df.info()"
   ]
  },
  {
   "cell_type": "markdown",
   "metadata": {
    "id": "gp-Y6wU38DC1"
   },
   "source": [
    "## Exploratory Data Analysis (EDA)"
   ]
  },
  {
   "cell_type": "markdown",
   "metadata": {
    "id": "MW7WF2kr8DC1"
   },
   "source": [
    "### Explore ..."
   ]
  },
  {
   "cell_type": "code",
   "execution_count": 9,
   "metadata": {},
   "outputs": [
    {
     "data": {
      "text/plain": [
       "'\\n# Step untuk menemukan jam buka efektif di working day\\n1. Seleksi hanya working day\\n2. Seleksi hanya jam memungkinkan untuk buka toko (05:00 s/d 22:00)\\n3. Bagi menjadi time range per 8 jam (05 s/d 13, 06, s/d 14, 07 s/d 15, 08 s/d 16, 09 s/d 17, 10 s/d 18, 11 s/d 19, 12 s/d 20, 13 s/d 21, 14 s/d 22)\\n4. Urutkan berdasarkan pemesanan terbanyak\\n# Step untuk menemukan jam buka efektif di holiday\\n1. Seleksi hanya holiday\\n2. Seleksi hanya jam memungkinkan untuk buka toko (05:00 s/d 22:00)\\n3. Bagi menjadi time range per 8 jam (05 s/d 13, 06 s/d 14, 07 s/d 15, 08 s/d 16, 09 s/d 17, 10 s/d 18, 11 s/d 19, 12 s/d 20, 13 s/d 21, 14 s/d 22)\\n4. Urutkan berdasarkan pemesanan terbanyak\\n# Step untuk mendapatkan tren jumlah pemesanan casual users selama 5 bulan terakhir\\n1. Seleksi hanya pemesanan casual users dalam 5 bulan terakhir\\n2. Bagi menjadi pemesanan per bulan\\n# Step untuk mendapatkan tren jumlah pemesanan registered users selama 5 bulan terakhir\\n1. Seleksi hanya pemesanan registered users dalam 5 bulan terakhir\\n2. Bagi menjadi pemesanan per bulan\\n\\n'"
      ]
     },
     "execution_count": 9,
     "metadata": {},
     "output_type": "execute_result"
    }
   ],
   "source": [
    "'''\n",
    "# Step untuk menemukan jam buka efektif di working day\n",
    "1. Seleksi hanya working day\n",
    "2. Seleksi hanya jam memungkinkan untuk buka toko (05:00 s/d 22:00)\n",
    "3. Bagi menjadi time range per 8 jam (05 s/d 13, 06, s/d 14, 07 s/d 15, 08 s/d 16, 09 s/d 17, 10 s/d 18, 11 s/d 19, 12 s/d 20, 13 s/d 21, 14 s/d 22)\n",
    "4. Urutkan berdasarkan pemesanan terbanyak\n",
    "# Step untuk menemukan jam buka efektif di holiday\n",
    "1. Seleksi hanya holiday\n",
    "2. Seleksi hanya jam memungkinkan untuk buka toko (05:00 s/d 22:00)\n",
    "3. Bagi menjadi time range per 8 jam (05 s/d 13, 06 s/d 14, 07 s/d 15, 08 s/d 16, 09 s/d 17, 10 s/d 18, 11 s/d 19, 12 s/d 20, 13 s/d 21, 14 s/d 22)\n",
    "4. Urutkan berdasarkan pemesanan terbanyak\n",
    "# Step untuk mendapatkan tren jumlah pemesanan casual users selama 5 bulan terakhir\n",
    "1. Seleksi hanya pemesanan casual users dalam 5 bulan terakhir\n",
    "2. Bagi menjadi pemesanan per bulan\n",
    "# Step untuk mendapatkan tren jumlah pemesanan registered users selama 5 bulan terakhir\n",
    "1. Seleksi hanya pemesanan registered users dalam 5 bulan terakhir\n",
    "2. Bagi menjadi pemesanan per bulan\n",
    "\n",
    "'''"
   ]
  },
  {
   "cell_type": "code",
   "execution_count": 10,
   "metadata": {},
   "outputs": [
    {
     "name": "stdout",
     "output_type": "stream",
     "text": [
      "Urutan jam operasi toko paling efektif berdasarkan jumlah rental (working day):\n",
      "Time Range: 12-20, Order Counts: 1341689\n",
      "Time Range: 13-21, Order Counts: 1334652\n",
      "Time Range: 14-22, Order Counts: 1304752\n",
      "Time Range: 11-19, Order Counts: 1295811\n",
      "Time Range: 10-18, Order Counts: 1189449\n",
      "Time Range: 09-17, Order Counts: 1064113\n",
      "Time Range: 08-16, Order Counts: 1038588\n",
      "Time Range: 07-15, Order Counts: 1036464\n",
      "Time Range: 06-14, Order Counts: 987041\n",
      "Time Range: 05-13, Order Counts: 907954\n"
     ]
    }
   ],
   "source": [
    "# 1: Seleksi hanya workingday\n",
    "working_day_df = bike_rents_per_hour_df[bike_rents_per_hour_df['workingday'] == 1]\n",
    "\n",
    "# 2: Seleksi hanya jam memungkinkan untuk buka toko (05:00 s/d 22:00)\n",
    "opening_hours_wd_df = working_day_df[(working_day_df['hr'] >= 5) & (working_day_df['hr'] <= 22)]\n",
    "\n",
    "# 3: Bagi menjadi time range per 8 jam\n",
    "time_ranges = {\n",
    "    '05-13': (5, 13),\n",
    "    '06-14': (6, 14),\n",
    "    '07-15': (7, 15),\n",
    "    '08-16': (8, 16),\n",
    "    '09-17': (9, 17),\n",
    "    '10-18': (10, 18),\n",
    "    '11-19': (11, 19),\n",
    "    '12-20': (12, 20),\n",
    "    '13-21': (13, 21),\n",
    "    '14-22': (14, 22)\n",
    "}\n",
    "\n",
    "time_range_wd_dfs = {}\n",
    "for range_name, (start_hour, end_hour) in time_ranges.items():\n",
    "    range_df = opening_hours_wd_df[(opening_hours_wd_df['hr'] >= start_hour) & (opening_hours_wd_df['hr'] <= end_hour)]\n",
    "    if not range_df.empty:  # Check if the DataFrame is not empty\n",
    "        time_range_wd_dfs[range_name] = range_df\n",
    "\n",
    "# 4: Urutkan berdasarkan pemesanan terbanyak\n",
    "sorted_wd_df = sorted(time_range_wd_dfs.items(), key=lambda x: x[1]['cnt'].sum(), reverse=True)\n",
    "\n",
    "# Menampilkan DataFrame yang diurutkan\n",
    "print(\"Urutan jam operasi toko paling efektif berdasarkan jumlah rental (working day):\")\n",
    "for range_name, range_df in sorted_wd_df:\n",
    "    print(f\"Time Range: {range_name}, Order Counts: {range_df['cnt'].sum()}\")"
   ]
  },
  {
   "cell_type": "code",
   "execution_count": 29,
   "metadata": {},
   "outputs": [
    {
     "name": "stdout",
     "output_type": "stream",
     "text": [
      "Urutan jam operasi toko paling efektif berdasarkan jumlah rental (holiday):\n",
      "Time Range: 11-19, Order Counts: 51273\n",
      "Time Range: 10-18, Order Counts: 50889\n",
      "Time Range: 12-20, Order Counts: 49791\n",
      "Time Range: 09-17, Order Counts: 48840\n",
      "Time Range: 13-21, Order Counts: 46808\n",
      "Time Range: 08-16, Order Counts: 46265\n",
      "Time Range: 14-22, Order Counts: 42825\n",
      "Time Range: 07-15, Order Counts: 42272\n",
      "Time Range: 06-14, Order Counts: 37298\n",
      "Time Range: 05-13, Order Counts: 31509\n"
     ]
    }
   ],
   "source": [
    "# 1: Seleksi hanya holiday\n",
    "holiday_df = bike_rents_per_hour_df[bike_rents_per_hour_df['holiday'] == 1]\n",
    "\n",
    "# 2: Seleksi hanya jam memungkinkan untuk buka toko (05:00 s/d 22:00)\n",
    "opening_hours_hd_df = holiday_df[(holiday_df['hr'] >= 5) & (holiday_df['hr'] <= 22)]\n",
    "\n",
    "\n",
    "# 3: Bagi menjadi time range per 8 jam\n",
    "time_ranges = {\n",
    "    '05-13': (5, 13),\n",
    "    '06-14': (6, 14),\n",
    "    '07-15': (7, 15),\n",
    "    '08-16': (8, 16),\n",
    "    '09-17': (9, 17),\n",
    "    '10-18': (10, 18),\n",
    "    '11-19': (11, 19),\n",
    "    '12-20': (12, 20),\n",
    "    '13-21': (13, 21),\n",
    "    '14-22': (14, 22)\n",
    "}\n",
    "\n",
    "time_range_hd_dfs = {}\n",
    "for range_name, (start_hour, end_hour) in time_ranges.items():\n",
    "    range_df = opening_hours_hd_df[(opening_hours_hd_df['hr'] >= start_hour) & (opening_hours_hd_df['hr'] <= end_hour)]\n",
    "    if not range_df.empty:  # Check if the DataFrame is not empty\n",
    "        time_range_hd_dfs[range_name] = range_df\n",
    "\n",
    "# 4: Urutkan berdasarkan pemesanan terbanyak\n",
    "sorted_hd_df = sorted(time_range_hd_dfs.items(), key=lambda x: x[1]['cnt'].sum(), reverse=True)\n",
    "\n",
    "# Menampilkan DataFrame yang diurutkan\n",
    "print(\"Urutan jam operasi toko paling efektif berdasarkan jumlah rental (holiday):\")\n",
    "for range_name, range_df in sorted_hd_df:\n",
    "    print(f\"Time Range: {range_name}, Order Counts: {range_df['cnt'].sum()}\")"
   ]
  },
  {
   "cell_type": "code",
   "execution_count": 45,
   "metadata": {},
   "outputs": [
    {
     "name": "stdout",
     "output_type": "stream",
     "text": [
      "     month  casual\n",
      "0  2012-08   43197\n",
      "1  2012-09   43778\n",
      "2  2012-10   34538\n",
      "3  2012-11   21009\n",
      "4  2012-12   13245\n"
     ]
    }
   ],
   "source": [
    "# 1. Seleksi hanya pemesanan casual users dalam 5 bulan terakhir\n",
    "latest_order_date = bike_rents_per_hour_df['dteday'].max()\n",
    "five_months_ago = latest_order_date - pd.DateOffset(months=5)\n",
    "recent_bookings = bike_rents_per_hour_df[(bike_rents_per_hour_df['dteday'] > five_months_ago) & (bike_rents_per_hour_df['casual'] > 0)].copy()\n",
    "\n",
    "# 2. Bagi menjadi pemesanan per bulan\n",
    "recent_bookings['month'] = recent_bookings['dteday'].dt.strftime('%Y-%m')\n",
    "casual_monthly_bookings = recent_bookings.groupby('month')['casual'].sum().reset_index()\n",
    "\n",
    "# Menampilkan hasil\n",
    "print(casual_monthly_bookings)"
   ]
  },
  {
   "cell_type": "code",
   "execution_count": 46,
   "metadata": {},
   "outputs": [
    {
     "name": "stdout",
     "output_type": "stream",
     "text": [
      "     month  registered\n",
      "0  2012-08      171306\n",
      "1  2012-09      174795\n",
      "2  2012-10      164303\n",
      "3  2012-11      131655\n",
      "4  2012-12      110468\n"
     ]
    }
   ],
   "source": [
    "# 1. Seleksi hanya pemesanan casual users dalam 5 bulan terakhir\n",
    "latest_order_date = bike_rents_per_hour_df['dteday'].max()\n",
    "five_months_ago = latest_order_date - pd.DateOffset(months=5)\n",
    "recent_bookings = bike_rents_per_hour_df[(bike_rents_per_hour_df['dteday'] > five_months_ago) & (bike_rents_per_hour_df['registered'] > 0)].copy()\n",
    "\n",
    "# 2. Bagi menjadi pemesanan per bulan\n",
    "recent_bookings['month'] = recent_bookings['dteday'].dt.strftime('%Y-%m')\n",
    "registered_monthly_bookings = recent_bookings.groupby('month')['registered'].sum().reset_index()\n",
    "\n",
    "# Menampilkan hasil\n",
    "print(registered_monthly_bookings)"
   ]
  },
  {
   "cell_type": "markdown",
   "metadata": {
    "id": "zsyZjqak8DC2"
   },
   "source": [
    "## Visualization & Explanatory Analysis"
   ]
  },
  {
   "cell_type": "markdown",
   "metadata": {
    "id": "HZxOiQ6n8DC2"
   },
   "source": [
    "### Pertanyaan 1:"
   ]
  },
  {
   "cell_type": "code",
   "execution_count": 42,
   "metadata": {
    "id": "1swJUdAD8DC2"
   },
   "outputs": [
    {
     "data": {
      "image/png": "[encoded data removed]",
      "text/plain": [
       "<Figure size 2400x600 with 2 Axes>"
      ]
     },
     "metadata": {},
     "output_type": "display_data"
    }
   ],
   "source": [
    "wd_time_ranges = []\n",
    "wd_order_counts = []\n",
    "\n",
    "for range_name, range_df in time_range_wd_dfs.items():\n",
    "    wd_time_ranges.append(range_name)\n",
    "    wd_order_counts.append(range_df['cnt'].sum())\n",
    "    \n",
    "wd_data_df = pd.DataFrame({'Time Range': wd_time_ranges, 'Order Counts': wd_order_counts})\n",
    "\n",
    "hd_time_ranges = []\n",
    "hd_order_counts = []\n",
    "\n",
    "for range_name, range_df in time_range_hd_dfs.items():\n",
    "    hd_time_ranges.append(range_name)\n",
    "    hd_order_counts.append(range_df['cnt'].sum())\n",
    "    \n",
    "hd_data_df = pd.DataFrame({'Time Range': hd_time_ranges, 'Order Counts': hd_order_counts})   \n",
    "\n",
    "fig, ax = plt.subplots(nrows=1, ncols=2, figsize=(24, 6))\n",
    " \n",
    "wd_colors = [\"#D3D3D3\", \"#D3D3D3\", \"#D3D3D3\", \"#D3D3D3\", \"#D3D3D3\", \"#D3D3D3\", \"#D3D3D3\", \"#72BCD4\", \"#D3D3D3\", \"#D3D3D3\"]\n",
    " \n",
    "sns.barplot(x='Order Counts', y='Time Range', data=wd_data_df, palette=wd_colors, ax=ax[0], hue=\"Time Range\")\n",
    "ax[0].set_ylabel(None)\n",
    "ax[0].set_xlabel(None)\n",
    "ax[0].set_title(\"Total Order Counts for Each Time Range (Working Days)\", loc=\"center\", fontsize=15)\n",
    "ax[0].tick_params(axis ='y', labelsize=12)\n",
    "\n",
    "hd_colors = [\"#D3D3D3\", \"#D3D3D3\", \"#D3D3D3\", \"#D3D3D3\", \"#D3D3D3\", \"#D3D3D3\", \"#72BCD4\", \"#D3D3D3\", \"#D3D3D3\", \"#D3D3D3\"]\n",
    "\n",
    "sns.barplot(x='Order Counts', y='Time Range', data=hd_data_df, palette=hd_colors, ax=ax[1], hue=\"Time Range\")\n",
    "ax[1].set_ylabel(None)\n",
    "ax[1].set_xlabel(None)\n",
    "ax[1].invert_xaxis()\n",
    "ax[1].yaxis.set_label_position(\"right\")\n",
    "ax[1].yaxis.tick_right()\n",
    "ax[1].set_title(\"Total Order Counts for Each Time Range (Holidays)\", loc=\"center\", fontsize=15)\n",
    "ax[1].tick_params(axis='y', labelsize=12)\n"
   ]
  },
  {
   "cell_type": "markdown",
   "metadata": {
    "id": "DgHI7CiU8DC2"
   },
   "source": [
    "### Pertanyaan 2:"
   ]
  },
  {
   "cell_type": "code",
   "execution_count": 49,
   "metadata": {
    "id": "Go0lCsvO8DC2"
   },
   "outputs": [
    {
     "data": {
      "image/png": "[encoded data removed]",
      "text/plain": [
       "<Figure size 1000x600 with 1 Axes>"
      ]
     },
     "metadata": {},
     "output_type": "display_data"
    }
   ],
   "source": [
    "# Plotting the line chart\n",
    "plt.figure(figsize=(10, 6))\n",
    "\n",
    "# Plotting casual orders\n",
    "plt.plot(casual_monthly_bookings['month'], casual_monthly_bookings['casual'], label='Casual Orders', marker='o')\n",
    "\n",
    "# Plotting registered orders\n",
    "plt.plot(registered_monthly_bookings['month'], registered_monthly_bookings['registered'], label='Registered Orders', marker='o')\n",
    "\n",
    "# Adding labels and title\n",
    "plt.xlabel('Month')\n",
    "plt.ylabel('Number of Orders')\n",
    "plt.title('Monthly Casual vs Registered Orders 5 Bulan Terakhir')\n",
    "plt.xticks(rotation=45)  # Rotate x-axis labels for better readability\n",
    "plt.legend()  # Show legend\n",
    "\n",
    "# Display the plot\n",
    "plt.grid(True)  # Add grid\n",
    "plt.tight_layout()  # Adjust layout to prevent clipping of labels\n",
    "plt.show()"
   ]
  },
  {
   "cell_type": "markdown",
   "metadata": {
    "id": "_WeHlCeX8DC2"
   },
   "source": [
    "## Conclusion"
   ]
  },
  {
   "cell_type": "markdown",
   "metadata": {
    "id": "ZTcyR48Y8DC2"
   },
   "source": [
    "- Jika melihat frekuensi pemesanan, waktu yang paling efektif untuk membuka toko adalah pada jarak waktu pukul 12.00 s/d 20.00 pada hari kerja dan 11:00 s/d 19:00 pada hari libur dengan asumsi jam kerja maksimal 8 jam dalam satu hari baik itu working day ataupun holiday\n",
    "- Registered users melakukan jauh lebih banyak pemesanan dibanding casual users. Hal ini menunjukkan kalau strategi membership berjalan baik. Namun, pada 3 bulan terakhir jarak antara registered orders dengan casual orders semakin terpangkas. Hal ini tidak lepas dari pengaruh jumlah pemesanan secara keseluruhan yang terus menurun."
   ]
  },
  {
   "cell_type": "code",
   "execution_count": null,
   "metadata": {},
   "outputs": [],
   "source": []
  }
 ],
 "metadata": {
  "colab": {
   "provenance": []
  },
  "kernelspec": {
   "display_name": "Python 3 (ipykernel)",
   "language": "python",
   "name": "python3"
  },
  "language_info": {
   "codemirror_mode": {
    "name": "ipython",
    "version": 3
   },
   "file_extension": ".py",
   "mimetype": "text/x-python",
   "name": "python",
   "nbconvert_exporter": "python",
   "pygments_lexer": "ipython3",
   "version": "3.12.2"
  },
  "vscode": {
   "interpreter": {
    "hash": "972b3bf27e332e87b5379f2791f6ef9dfc79c71018c370b0d7423235e20fe4d7"
   }
  }
 },
 "nbformat": 4,
 "nbformat_minor": 4
}
